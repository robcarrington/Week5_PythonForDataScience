{
 "cells": [
  {
   "cell_type": "markdown",
   "metadata": {},
   "source": [
    "# Python for Data Science, Level I\n",
    "### *Session \\#10*\n",
    "---\n",
    "\n",
    "### Helpful shortcuts\n",
    "---\n",
    "\n",
    "**SHIFT** + **ENTER** ----> Execute Cell\n",
    "\n",
    "**TAB** ----> See autocomplete options\n",
    "\n",
    "**ESC** then **b** ----> Create Cell \n",
    "\n",
    "**ESC** then **dd** ----> Delete Cell\n",
    "\n",
    "**\\[python expression\\]?** ---> Explanation of that Python expression\n",
    "\n",
    "**ESC** then **m** then __ENTER__ ----> Switch to Markdown mode"
   ]
  },
  {
   "cell_type": "markdown",
   "metadata": {},
   "source": [
    "## I. Basic Linear Regression\n",
    "\n",
    "### Warm Ups\n",
    "\n",
    "---\n",
    "\n",
    "**Import libraries and read in dataset:**"
   ]
  },
  {
   "cell_type": "code",
   "execution_count": 248,
   "metadata": {},
   "outputs": [],
   "source": [
    "%matplotlib inline\n",
    "import numpy as np\n",
    "import pandas as pd\n",
    "import matplotlib.pyplot as plt\n",
    "from sklearn.linear_model import LinearRegression\n",
    "from sklearn.metrics import mean_squared_error, r2_score\n",
    "\n",
    "housing_df = pd.read_csv(\"housing_prices.csv\")"
   ]
  },
  {
   "cell_type": "markdown",
   "metadata": {},
   "source": [
    "**Create a linear model:** `model = LinearRegression()`"
   ]
  },
  {
   "cell_type": "code",
   "execution_count": null,
   "metadata": {},
   "outputs": [],
   "source": []
  },
  {
   "cell_type": "markdown",
   "metadata": {},
   "source": [
    "**Manually set the y-intercept of the model:** `model.intercept_ = 6000.0`"
   ]
  },
  {
   "cell_type": "code",
   "execution_count": 310,
   "metadata": {},
   "outputs": [],
   "source": []
  },
  {
   "cell_type": "markdown",
   "metadata": {},
   "source": [
    "**Manually set the coefficient(s) of the model:** `model.coef_ = np.array([3000.0])` "
   ]
  },
  {
   "cell_type": "code",
   "execution_count": null,
   "metadata": {},
   "outputs": [],
   "source": []
  },
  {
   "cell_type": "markdown",
   "metadata": {},
   "source": [
    "**Make prediction column using your linear model:** `housing_df['predicted_price'] = model.predict(housing_df[['distance_to_city']])`"
   ]
  },
  {
   "cell_type": "code",
   "execution_count": 314,
   "metadata": {},
   "outputs": [],
   "source": []
  },
  {
   "cell_type": "markdown",
   "metadata": {},
   "source": [
    "**Plot your data and model:**\n",
    "    \n",
    "```python\n",
    "axes = housing_df.plot(kind='scatter', x='distance_to_city', y='median_price', color='black')\n",
    "housing_df.plot(x='distance_to_city', y='predicted_price', ax=axes)\n",
    "fig = plt.gcf()\n",
    "```"
   ]
  },
  {
   "cell_type": "code",
   "execution_count": null,
   "metadata": {},
   "outputs": [],
   "source": []
  },
  {
   "cell_type": "markdown",
   "metadata": {},
   "source": [
    "### Exercises\n",
    "---"
   ]
  },
  {
   "cell_type": "markdown",
   "metadata": {},
   "source": [
    "**1. Create a scatter plot with** `avg_num_rooms` **as the x-axis and** `median_price` **as y-axis**"
   ]
  },
  {
   "cell_type": "code",
   "execution_count": null,
   "metadata": {},
   "outputs": [],
   "source": []
  },
  {
   "cell_type": "markdown",
   "metadata": {},
   "source": [
    "**2. Create a** `LinearRegression` **model and manually set the intercept and coefficient.**\n",
    "\n",
    "Hint: Try setting the intercept around `-35000` and the coefficient around `6000`."
   ]
  },
  {
   "cell_type": "code",
   "execution_count": null,
   "metadata": {},
   "outputs": [],
   "source": []
  },
  {
   "cell_type": "markdown",
   "metadata": {},
   "source": [
    "**3. Assign** `housing_df['predicted_price']` **to the output of** `model.predict()` **called on** `avg_num_rooms`\n",
    "\n",
    "Hint: Remember that `model.predict()` expects a dataframe, not a column. "
   ]
  },
  {
   "cell_type": "code",
   "execution_count": null,
   "metadata": {},
   "outputs": [],
   "source": []
  },
  {
   "cell_type": "markdown",
   "metadata": {},
   "source": [
    "**4. Create a line plot with** `predicted_price` **as the y-axis and** `avg_num_rooms` **as the x-axis. Make sure your new line plot is overlayed on top of your data points from exercise 1.** \n",
    "\n",
    "Hint: `.plot` uses a line plot by default. Remember to use `fig` to see the updated image of your graph."
   ]
  },
  {
   "cell_type": "code",
   "execution_count": null,
   "metadata": {},
   "outputs": [],
   "source": []
  },
  {
   "cell_type": "markdown",
   "metadata": {},
   "source": [
    "**5. Let's figure out which line has \"best fit\"! Write a function** `squared_error()` **that first takes two columns and finds the difference between each corresponding element. It should then square each difference and return the sum.**\n",
    "\n",
    "Hint: No looping needed -- you can use subtraction on the columns themselves, thanks to Numpy element-wise operations."
   ]
  },
  {
   "cell_type": "code",
   "execution_count": null,
   "metadata": {},
   "outputs": [],
   "source": []
  },
  {
   "cell_type": "markdown",
   "metadata": {},
   "source": [
    "**6. Use** `squared_error()` **on the columns** `median_price` **and** `predicted_price` **to see how well your line fits the data. This will be a BIG number -- don't worry! Tweak the intercept and coefficient, to see how it improves or degrades the fit of your line.**"
   ]
  },
  {
   "cell_type": "code",
   "execution_count": null,
   "metadata": {},
   "outputs": [],
   "source": []
  },
  {
   "cell_type": "markdown",
   "metadata": {},
   "source": [
    "**7. Use** `model.fit()` **on** `avg_num_rooms` **and** `median_price` **to automatically optimize your linear model according to squared error. Repeat the steps from exercise 3 and 4 to overwrite** `predicted_price` **using your optimized model and graph the results.**"
   ]
  },
  {
   "cell_type": "code",
   "execution_count": null,
   "metadata": {},
   "outputs": [],
   "source": []
  },
  {
   "cell_type": "markdown",
   "metadata": {},
   "source": [
    "## II. Multilinear Regression\n",
    "\n",
    "### Warm Ups\n",
    "---"
   ]
  },
  {
   "cell_type": "markdown",
   "metadata": {},
   "source": [
    "**Training a model with multiple features:** \n",
    "\n",
    "```python\n",
    "columns = ['avg_num_rooms', 'student_teacher_ratio', 'nitrous']\n",
    "model.fit(housing_df[columns], housing_df['median_price'])\n",
    "```"
   ]
  },
  {
   "cell_type": "code",
   "execution_count": null,
   "metadata": {},
   "outputs": [],
   "source": []
  },
  {
   "cell_type": "markdown",
   "metadata": {},
   "source": [
    "**Prediction with multiple features:** `model.predict(housing_df[columns])`"
   ]
  },
  {
   "cell_type": "code",
   "execution_count": null,
   "metadata": {},
   "outputs": [],
   "source": []
  },
  {
   "cell_type": "markdown",
   "metadata": {},
   "source": [
    "**Compute mean squared error:** `mean_squared_error(housing_df['median_price'], housing_df['predicted_price'])`"
   ]
  },
  {
   "cell_type": "code",
   "execution_count": null,
   "metadata": {},
   "outputs": [],
   "source": []
  },
  {
   "cell_type": "markdown",
   "metadata": {},
   "source": [
    "**Compute R2 score:** `r2_score(housing_df['median_price'], housing_df['predicted_price'])`"
   ]
  },
  {
   "cell_type": "code",
   "execution_count": null,
   "metadata": {},
   "outputs": [],
   "source": []
  },
  {
   "cell_type": "markdown",
   "metadata": {},
   "source": [
    "### Exercises\n",
    "---"
   ]
  },
  {
   "cell_type": "markdown",
   "metadata": {},
   "source": [
    "**1. What is the mean squared error and R2 score for your single-variable linear model for** `median_price`?\n",
    "   "
   ]
  },
  {
   "cell_type": "code",
   "execution_count": null,
   "metadata": {},
   "outputs": [],
   "source": []
  },
  {
   "cell_type": "markdown",
   "metadata": {},
   "source": [
    "**2. Retrain your model using the three features you think are most important to home price, and overwrite the** `predicted_price` **column using your new model.**"
   ]
  },
  {
   "cell_type": "code",
   "execution_count": null,
   "metadata": {},
   "outputs": [],
   "source": []
  },
  {
   "cell_type": "markdown",
   "metadata": {},
   "source": [
    "**3. What is the mean squared error and R2 score for your new three-variable linear model for median_price?**"
   ]
  },
  {
   "cell_type": "code",
   "execution_count": null,
   "metadata": {},
   "outputs": [],
   "source": []
  },
  {
   "cell_type": "markdown",
   "metadata": {},
   "source": [
    "**4. Retrain your model using all available column data, and overwrite the predicted_price column using your new model. What are your mean squared error and R2 score now?**\n",
    "\n",
    "Hint: Don't forget to remove the `median price` and `predicted price` columns! Those are forms of the answer, which you do not want to train on."
   ]
  },
  {
   "cell_type": "code",
   "execution_count": null,
   "metadata": {},
   "outputs": [],
   "source": []
  },
  {
   "cell_type": "markdown",
   "metadata": {},
   "source": [
    "**5. Output the coefficients of the linear model using** `.coef_`, **and take their absolute value. The function** `np.argmin()` **will give you the index of the smallest value in the coefficients? Which feature does this correspond to?**"
   ]
  },
  {
   "cell_type": "code",
   "execution_count": null,
   "metadata": {},
   "outputs": [],
   "source": []
  },
  {
   "cell_type": "markdown",
   "metadata": {},
   "source": [
    "**4. Drop the corresponding column and retrain your model. How does this affect the r2 score and mean_squared_error?** "
   ]
  },
  {
   "cell_type": "code",
   "execution_count": null,
   "metadata": {},
   "outputs": [],
   "source": []
  },
  {
   "cell_type": "markdown",
   "metadata": {},
   "source": [
    "## III. Linear Regression Assumptions\n",
    "\n",
    "### Warm Ups\n",
    "---"
   ]
  },
  {
   "cell_type": "markdown",
   "metadata": {},
   "source": [
    "**Use a scatter plot to check for linearity and equal variance:** \n",
    "```python\n",
    "axes = housing_df.plot(kind='scatter', x='nitrous', y='median_price', color='black')\n",
    "fig = plt.gcf()\n",
    "```"
   ]
  },
  {
   "cell_type": "code",
   "execution_count": null,
   "metadata": {},
   "outputs": [],
   "source": []
  },
  {
   "cell_type": "markdown",
   "metadata": {},
   "source": [
    "**Use a correlation matrix to check for dependence between variables:** `housing_df.corr()`"
   ]
  },
  {
   "cell_type": "code",
   "execution_count": null,
   "metadata": {},
   "outputs": [],
   "source": []
  },
  {
   "cell_type": "markdown",
   "metadata": {},
   "source": [
    "**Create a histogram of a column** \n",
    "```python\n",
    "axes = housing_df['error'].plot(kind='hist', bins=50)\n",
    "fig = plt.gcf()\n",
    "```"
   ]
  },
  {
   "cell_type": "code",
   "execution_count": null,
   "metadata": {},
   "outputs": [],
   "source": []
  },
  {
   "cell_type": "markdown",
   "metadata": {},
   "source": [
    "### Exercises\n",
    "---"
   ]
  },
  {
   "cell_type": "markdown",
   "metadata": {},
   "source": [
    "**1. Check the correlation matrix for** `housing_df` **to find features that are more than 90% correlated**"
   ]
  },
  {
   "cell_type": "code",
   "execution_count": null,
   "metadata": {},
   "outputs": [],
   "source": []
  },
  {
   "cell_type": "markdown",
   "metadata": {},
   "source": [
    "**2. Use a scatter plot to check linearity and equal variance for** `avg_num_rooms` **and** `student_teacher_ratio`. **Which of these is a better indicator for price?** "
   ]
  },
  {
   "cell_type": "code",
   "execution_count": null,
   "metadata": {},
   "outputs": [],
   "source": []
  },
  {
   "cell_type": "markdown",
   "metadata": {},
   "source": [
    "**3. Create a column called** `error` **which is the difference between** `predicted_price` **and** `median_price`."
   ]
  },
  {
   "cell_type": "code",
   "execution_count": null,
   "metadata": {},
   "outputs": [],
   "source": []
  },
  {
   "cell_type": "markdown",
   "metadata": {},
   "source": [
    "**4. Create a histogram of the** `error` **column. Is it normal, and centered on 0?**"
   ]
  },
  {
   "cell_type": "code",
   "execution_count": null,
   "metadata": {},
   "outputs": [],
   "source": []
  }
 ],
 "metadata": {
  "kernelspec": {
   "display_name": "Python 3",
   "language": "python",
   "name": "python3"
  },
  "language_info": {
   "codemirror_mode": {
    "name": "ipython",
    "version": 3
   },
   "file_extension": ".py",
   "mimetype": "text/x-python",
   "name": "python",
   "nbconvert_exporter": "python",
   "pygments_lexer": "ipython3",
   "version": "3.6.8"
  }
 },
 "nbformat": 4,
 "nbformat_minor": 2
}
